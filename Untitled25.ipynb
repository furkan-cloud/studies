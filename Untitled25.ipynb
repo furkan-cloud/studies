{
 "cells": [
  {
   "cell_type": "code",
   "execution_count": 19,
   "metadata": {},
   "outputs": [
    {
     "name": "stdout",
     "output_type": "stream",
     "text": [
      "33\n",
      "98.1\n",
      "56.44\n",
      "100\n"
     ]
    },
    {
     "data": {
      "text/plain": [
       "[0.33, 0.981, 0.5644, 1.0]"
      ]
     },
     "execution_count": 19,
     "metadata": {},
     "output_type": "execute_result"
    }
   ],
   "source": [
    "def convert_to_decimal(perc):\n",
    "    new_list = []\n",
    "    for i in perc:\n",
    "        perc = i.replace(\"%\", \"\")\n",
    "        print(perc)\n",
    "        new_list.append(float(perc)*0.01)\n",
    "    return new_list\n",
    "\n",
    "convert_to_decimal([\"33%\", \"98.1%\", \"56.44%\", \"100%\"])"
   ]
  },
  {
   "cell_type": "code",
   "execution_count": 20,
   "metadata": {},
   "outputs": [
    {
     "data": {
      "text/plain": [
       "[0.33, 0.981, 0.5644, 1.0]"
      ]
     },
     "execution_count": 20,
     "metadata": {},
     "output_type": "execute_result"
    }
   ],
   "source": [
    "def convert_to_decimal(perc):\n",
    "    return [float(item[:-1])/100 for item in perc]\n",
    "convert_to_decimal([\"33%\", \"98.1%\", \"56.44%\", \"100%\"])"
   ]
  },
  {
   "cell_type": "code",
   "execution_count": 24,
   "metadata": {},
   "outputs": [
    {
     "data": {
      "text/plain": [
       "0.33"
      ]
     },
     "execution_count": 24,
     "metadata": {},
     "output_type": "execute_result"
    }
   ],
   "source": [
    "liste = [\"33%\", \"98.1%\", \"56.44%\", \"100%\"]\n",
    "float(liste[0][:-1])/100"
   ]
  },
  {
   "cell_type": "code",
   "execution_count": 27,
   "metadata": {},
   "outputs": [
    {
     "name": "stdout",
     "output_type": "stream",
     "text": [
      "[0.45, 0.32, 0.97, 0.33]\n"
     ]
    }
   ],
   "source": [
    "A=[\"45%\", \"32%\", \"97%\", \"33%\"]\n",
    "B=[]\n",
    "for i in A:\n",
    "    B.append(eval(i[:-1]+'/'+\"100\"))\n",
    "print(B)"
   ]
  },
  {
   "cell_type": "code",
   "execution_count": 28,
   "metadata": {},
   "outputs": [
    {
     "name": "stdout",
     "output_type": "stream",
     "text": [
      "[0, 1, 2, 3, 4, 5, 6, 7, 8, 9]\n"
     ]
    }
   ],
   "source": [
    "x = [i for i in range(10)]\n",
    "print(x)"
   ]
  },
  {
   "cell_type": "code",
   "execution_count": 30,
   "metadata": {},
   "outputs": [
    {
     "data": {
      "text/plain": [
       "[0.33, 0.981, 0.5644, 1.0]"
      ]
     },
     "execution_count": 30,
     "metadata": {},
     "output_type": "execute_result"
    }
   ],
   "source": [
    "def convert_to_decimal(perc):\n",
    "    return [float(i.rstrip(\"%\"))/100 for i in perc]\n",
    "convert_to_decimal([\"33%\", \"98.1%\", \"56.44%\", \"100%\"])"
   ]
  },
  {
   "cell_type": "code",
   "execution_count": 31,
   "metadata": {},
   "outputs": [
    {
     "name": "stdout",
     "output_type": "stream",
     "text": [
      "[10, 9, 8, 7, 6, 5, 4, 3, 2, 1]\n"
     ]
    }
   ],
   "source": [
    "liste = list(range(1,11))\n",
    "liste.sort(reverse = True)\n",
    "print(liste)"
   ]
  },
  {
   "cell_type": "code",
   "execution_count": 35,
   "metadata": {},
   "outputs": [
    {
     "name": "stdout",
     "output_type": "stream",
     "text": [
      "['eggplant', 'spinach', 'leek']\n"
     ]
    }
   ],
   "source": [
    "grocer = [\"banana\", [\"orange\", [\"apple\", \"eggplant\", \"melon\", \"spinach\", \"cheese\", \"leek\" ], \"water\"], \"mandarin\"]\n",
    "\n",
    "print(grocer[1][1][1::2])"
   ]
  },
  {
   "cell_type": "code",
   "execution_count": 36,
   "metadata": {},
   "outputs": [
    {
     "name": "stdout",
     "output_type": "stream",
     "text": [
      "My two favorite flowers are tulip and rose, two favorite colors are blue and green.\n"
     ]
    }
   ],
   "source": [
    "flowers = [[\"jasmine\", [\"lavender\", \"rose\"], \"tulip\"]]\n",
    "colors = [\"red\", (\"blue\", [\"yellow\", \"green\"]), \"pink\"]\n",
    "text = \"My two favorite flowers are {} and {}, two favorite colors are {} and {}.\".format(flowers[0][2], flowers[0][1][1], colors[1][0], colors[1][1][1])\n",
    "print(text)"
   ]
  },
  {
   "cell_type": "code",
   "execution_count": 37,
   "metadata": {},
   "outputs": [
    {
     "name": "stdout",
     "output_type": "stream",
     "text": [
      "I am 40 years old.\n",
      "\tI have two children.\n",
      "\t\tData Science is my IT domain.\n"
     ]
    }
   ],
   "source": [
    "escapes = [\"\\n\\t\", (\"\\t\", \"\\t\\t\"), [\"\\n\", \"\\n\\t\\t\"]]\n",
    "\n",
    "sentence = \"I am 40 years old.{}I have two children.{}Data Science is my IT domain.\".format(escapes[0], escapes[2][1])\n",
    "\n",
    "print(sentence)"
   ]
  },
  {
   "cell_type": "code",
   "execution_count": 5,
   "metadata": {},
   "outputs": [
    {
     "name": "stdout",
     "output_type": "stream",
     "text": [
      "Please enter value 'a' for (ax**2 + bx +c) equaiton: 1\n",
      "Please enter value 'b' for (ax**2 + bx +c) equaiton: -2\n",
      "Please enter value 'c' for (ax**2 + bx +c) equaiton: 1\n",
      "1.0 1.0\n"
     ]
    }
   ],
   "source": [
    "a = int(input(\"Please enter value 'a' for (ax**2 + bx +c) equaiton: \"))\n",
    "b = int(input(\"Please enter value 'b' for (ax**2 + bx +c) equaiton: \"))\n",
    "c = int(input(\"Please enter value 'c' for (ax**2 + bx +c) equaiton: \"))\n",
    "delta = b**2 - 4*a*c\n",
    "x1 = (-b + delta**0.5) / 2*a\n",
    "x2 = (-b - delta**0.5) / 2*a\n",
    "x1 + x2 == -b / a\n",
    "if a*x1**2 + b*x1 + c == 0\n",
    "a*x2**2 + b*x2 + c == 0\n",
    "print(x1, x2)"
   ]
  },
  {
   "cell_type": "code",
   "execution_count": 9,
   "metadata": {},
   "outputs": [
    {
     "name": "stdout",
     "output_type": "stream",
     "text": [
      "Please enter value 'a' for (ax**2 + bx +c) equation: 1\n",
      "Please enter value 'b' for (ax**2 + bx +c) equation: -4\n",
      "Please enter value 'c' for (ax**2 + bx +c) equation: 4\n",
      "2.0 2.0\n"
     ]
    }
   ],
   "source": [
    "a = int(input(\"Please enter value 'a' for (ax**2 + bx +c) equation: \"))\n",
    "b = int(input(\"Please enter value 'b' for (ax**2 + bx +c) equation: \"))\n",
    "c = int(input(\"Please enter value 'c' for (ax**2 + bx +c) equation: \"))\n",
    "delta = b**2 - 4*a*c\n",
    "x1 = (-b + delta**0.5) / 2*a\n",
    "x2 = (-b - delta**0.5) / 2*a\n",
    "if a*x1**2 + b*x1 + c == 0 and a*x2**2 + b*x2 + c == 0:\n",
    "    x1 + x2 == -b / a\n",
    "    print(x1, x2)"
   ]
  },
  {
   "cell_type": "code",
   "execution_count": 11,
   "metadata": {},
   "outputs": [
    {
     "name": "stdout",
     "output_type": "stream",
     "text": [
      "Please enter value 'a' for (ax**2 + bx +c) equation: 1\n",
      "Please enter value 'b' for (ax**2 + bx +c) equation: -3\n",
      "Please enter value 'c' for (ax**2 + bx +c) equation: 2\n",
      "2.0 1.0\n"
     ]
    }
   ],
   "source": [
    "a = int(input(\"Please enter value 'a' for (ax**2 + bx +c) equation: \"))\n",
    "b = int(input(\"Please enter value 'b' for (ax**2 + bx +c) equation: \"))\n",
    "c = int(input(\"Please enter value 'c' for (ax**2 + bx +c) equation: \"))\n",
    "delta = b**2 - 4*a*c\n",
    "x1 = (-b + delta**0.5) / 2*a\n",
    "x2 = (-b - delta**0.5) / 2*a\n",
    "if a*x1**2 + b*x1 + c == 0 and a*x2**2 + b*x2 + c == 0:\n",
    "    print(x1, x2)"
   ]
  },
  {
   "cell_type": "code",
   "execution_count": null,
   "metadata": {},
   "outputs": [],
   "source": [
    "for i in A:\n",
    "    B.append(eval(i[:-1]+‘/’+‘100’))\n",
    "print(B)"
   ]
  },
  {
   "cell_type": "code",
   "execution_count": 12,
   "metadata": {},
   "outputs": [
    {
     "data": {
      "text/plain": [
       "False"
      ]
     },
     "execution_count": 12,
     "metadata": {},
     "output_type": "execute_result"
    }
   ],
   "source": [
    "def correct_signs(txt):\n",
    "    return eval(txt)\n",
    "correct_signs(\"13 > 44 > 33 > 1\")"
   ]
  },
  {
   "cell_type": "code",
   "execution_count": 14,
   "metadata": {},
   "outputs": [
    {
     "data": {
      "text/plain": [
       "True"
      ]
     },
     "execution_count": 14,
     "metadata": {},
     "output_type": "execute_result"
    }
   ],
   "source": [
    "def correct_signs(txt):\n",
    "    x = [i for i in txt if i in '<>']\n",
    "    t = txt.replace(' <', '').replace(' >', '').split()\n",
    "    return all(int(t[i])<int(t[i+1]) if x[i]=='<' else int(t[i])>int(t[i+1]) for i in range(len(t)-1))\n",
    "correct_signs(\"1 < 2 < 6 < 9 > 3\")"
   ]
  },
  {
   "cell_type": "code",
   "execution_count": null,
   "metadata": {},
   "outputs": [],
   "source": []
  }
 ],
 "metadata": {
  "kernelspec": {
   "display_name": "Python 3",
   "language": "python",
   "name": "python3"
  },
  "language_info": {
   "codemirror_mode": {
    "name": "ipython",
    "version": 3
   },
   "file_extension": ".py",
   "mimetype": "text/x-python",
   "name": "python",
   "nbconvert_exporter": "python",
   "pygments_lexer": "ipython3",
   "version": "3.7.6"
  }
 },
 "nbformat": 4,
 "nbformat_minor": 4
}
