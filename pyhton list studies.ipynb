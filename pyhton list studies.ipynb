{
 "cells": [
  {
   "cell_type": "code",
   "execution_count": 3,
   "metadata": {},
   "outputs": [
    {
     "name": "stdout",
     "output_type": "stream",
     "text": [
      "[' ', ' ', 'I', 'g', 'i', 'i', 'k', 'm', 'n', 'o', 'q', 's', 't', 'u']\n",
      "[' ', 'I', 'g', 'i', 'k', 'm', 'n', 'o', 'q', 's', 't', 'u']\n"
     ]
    }
   ],
   "source": [
    "string_1 = 'I quit smoking'\n",
    "\n",
    "new_list_1 = list(string_1)  # we created multi element list\n",
    "print(sorted(new_list_1))\n",
    "print(sorted(set(string_1)))"
   ]
  },
  {
   "cell_type": "code",
   "execution_count": 11,
   "metadata": {},
   "outputs": [
    {
     "name": "stdout",
     "output_type": "stream",
     "text": [
      "<class 'list'>\n",
      "<class 'list'>\n",
      "['İkinci eleman', 'ilk eleman']\n",
      "[]\n"
     ]
    }
   ],
   "source": [
    "empty_list = []\n",
    "empty_list_2 = list()\n",
    "empty_list.append(\"ilk eleman\")\n",
    "empty_list.insert(0,\"İkinci eleman\")\n",
    "print(type(empty_list))\n",
    "print(type(empty_list_2))\n",
    "print(empty_list)\n",
    "print(empty_list_2)"
   ]
  },
  {
   "cell_type": "code",
   "execution_count": 21,
   "metadata": {},
   "outputs": [
    {
     "name": "stdout",
     "output_type": "stream",
     "text": [
      "['London', 'Paris', 'İzmir', 'Aydın', 'Pekin', 'Kopenhag']\n",
      "['Aydın', 'Kopenhag', 'London', 'Paris', 'Pekin', 'İzmir']\n",
      "['Aydın', 'Kopenhag', 'London', 'Paris', 'Pekin', 'İzmir', 'Aydın', 'Kopenhag', 'London', 'Paris', 'Pekin', 'İzmir', 'Aydın', 'Kopenhag', 'London', 'Paris', 'Pekin', 'İzmir']\n",
      "6\n",
      "['Aydın', 'Kopenhag', 'London', 'Bursa', 'Pekin', 'İzmir']\n",
      "['Aydın', 'Kopenhag', 'London', 'Bursa', 'Pekin']\n",
      "['Aydın', 'Kopenhag']\n"
     ]
    }
   ],
   "source": [
    "city = [\"London\", \"Paris\", \"Aydın\", \"Konya\", \"Pekin\"]\n",
    "city.append(\"Kopenhag\")\n",
    "city.insert(2, \"İzmir\")\n",
    "city.remove(\"Konya\")\n",
    "print(city)\n",
    "city.sort()\n",
    "print(city)\n",
    "print(city*3)\n",
    "print(len(city))\n",
    "city[3] = \"Bursa\"  # Paris Bursa oldu\n",
    "print(city)\n",
    "city.pop()\n",
    "print(city)\n",
    "del city[2:5]\n",
    "print(city)"
   ]
  },
  {
   "cell_type": "code",
   "execution_count": 33,
   "metadata": {},
   "outputs": [
    {
     "name": "stdout",
     "output_type": "stream",
     "text": [
      "[10, 9, 8, 7, 6, 5, 4, 3, 2, 1]\n",
      "['Paris', 'London', 'New York']\n",
      "['Paris', 'London', 'New York', 5, 4, 3, 2, 1]\n",
      "['New York', 5, 4]\n"
     ]
    }
   ],
   "source": [
    "sayilar = [1, 2, 3, 4, 5, 6, 7, 8, 9, 10]\n",
    "sayilar.reverse()\n",
    "print(sayilar)\n",
    "sehirler = [\"Paris\", \"London\", \"New York\"]\n",
    "# sehirler.extend(sayilar)\n",
    "# sehirler += sayilar\n",
    "sayilar[0:5] = sehirler\n",
    "print(sehirler)\n",
    "print(sayilar)\n",
    "print(sayilar[2:5])"
   ]
  },
  {
   "cell_type": "code",
   "execution_count": 48,
   "metadata": {},
   "outputs": [
    {
     "name": "stdout",
     "output_type": "stream",
     "text": [
      "['eggplant', 'spinach', 'leek']\n"
     ]
    }
   ],
   "source": [
    "grocer = [\"banana\", [\"orange\", [\"apple\", \"eggplant\", \"melon\", \"spinach\", \"cheese\", \"leek\" ], \"water\"], \"mandarin\"]\n",
    "\n",
    "print(grocer[1][1][1::2])\n"
   ]
  },
  {
   "cell_type": "code",
   "execution_count": 49,
   "metadata": {},
   "outputs": [
    {
     "name": "stdout",
     "output_type": "stream",
     "text": [
      "My two favorite flowers are tulip and rose, two favorite colors are blue and green.\n"
     ]
    }
   ],
   "source": [
    "flowers = [[\"jasmine\", [\"lavender\", \"rose\"], \"tulip\"]]\n",
    "colors = [\"red\", (\"blue\", [\"yellow\", \"green\"]), \"pink\"]\n",
    "text = \"My two favorite flowers are {} and {}, two favorite colors are {} and {}.\".format(flowers[0][2], flowers[0][1][1], colors[1][0], colors[1][1][1])\n",
    "print(text)"
   ]
  },
  {
   "cell_type": "code",
   "execution_count": 52,
   "metadata": {},
   "outputs": [
    {
     "name": "stdout",
     "output_type": "stream",
     "text": [
      "I am 40 years old.\n",
      "\t I have two children.\n",
      "\t\t Data Science is my IT domain.\n"
     ]
    }
   ],
   "source": [
    "escapes = [\"\\n\\t\", (\"\\t\", \"\\t\\t\"), [\"\\n\", \"\\n\\t\\t\"]]\n",
    "\n",
    "sentence = \"I am 40 years old.{} I have two children.{} Data Science is my IT domain.\".format(escapes[0], escapes[2][1])\n",
    "\n",
    "print(sentence)"
   ]
  },
  {
   "cell_type": "code",
   "execution_count": 60,
   "metadata": {},
   "outputs": [
    {
     "name": "stdout",
     "output_type": "stream",
     "text": [
      "{'apple', 'ZOOM', 'banana', 'cherry'}\n"
     ]
    }
   ],
   "source": [
    "x = 'apple', \"ZOOM\", 'banana', 'cherry'\n",
    "print(set(x))"
   ]
  },
  {
   "cell_type": "code",
   "execution_count": 68,
   "metadata": {},
   "outputs": [
    {
     "name": "stdout",
     "output_type": "stream",
     "text": [
      "4\n",
      "[1, 4, 8, 7, 3]\n",
      "{1, 3, 4, 7, 8}\n",
      "{1, 3, 4, 7, 8}\n",
      "{'d', 'g', 'f', 'a'}\n",
      "{'d', 'g', 'f', 'a'}\n"
     ]
    }
   ],
   "source": [
    "y = \"adfadgadga\"\n",
    "print(y.count(\"a\"))\n",
    "list = [1, 4, 8, 7, 3]\n",
    "print(list)\n",
    "print(set(list))\n",
    "print(str(set(list)))\n",
    "print(set(y))\n",
    "print(str(set(y)))"
   ]
  },
  {
   "cell_type": "code",
   "execution_count": 67,
   "metadata": {},
   "outputs": [
    {
     "name": "stdout",
     "output_type": "stream",
     "text": [
      "{'Bat', 'Cat', 'Sat', 'Mat'}\n",
      "[['Bat', 1], ['Cat', 3], ['Sat', 2], ['Mat', 1]]\n",
      "[['Cat', 3], ['Bat', 1], ['Sat', 2], ['Cat', 3], ['Mat', 1], ['Cat', 3], ['Sat', 2]]\n"
     ]
    }
   ],
   "source": [
    "lst = ['Cat', 'Bat', 'Sat', 'Cat', 'Mat', 'Cat', 'Sat']\n",
    "print(set(lst))\n",
    "print ([ [l, lst.count(l)] for l in set(lst)])\n",
    "print ([ [l, lst.count(l)] for l in lst])"
   ]
  },
  {
   "cell_type": "code",
   "execution_count": 75,
   "metadata": {},
   "outputs": [
    {
     "name": "stdout",
     "output_type": "stream",
     "text": [
      "t\n",
      "YOU CAN LEARN EVERYTHING\n",
      "tyou can learn everythingz\n"
     ]
    }
   ],
   "source": [
    "text = \"tyou can learn everythingz\"\n",
    "print(text[0].strip(\"nkaks\"))\n",
    "print(text.upper().strip(\"TZ\"))\n",
    "print(text)"
   ]
  },
  {
   "cell_type": "code",
   "execution_count": 76,
   "metadata": {},
   "outputs": [
    {
     "name": "stdout",
     "output_type": "stream",
     "text": [
      "In God we Trust\n"
     ]
    }
   ],
   "source": [
    "text = \"In God wee Trust\"\n",
    "text1 = text[:9]\n",
    "text2 = text[10:]\n",
    "print(text1 + text2)"
   ]
  },
  {
   "cell_type": "code",
   "execution_count": 81,
   "metadata": {},
   "outputs": [
    {
     "name": "stdout",
     "output_type": "stream",
     "text": [
      "Herkesi sen / dost mu sandın / belki ol / ağyâr olur. Sâdıkâne / belki ol / bu âlemde / dildâr olur. Yâr olur / ağ\n"
     ]
    }
   ],
   "source": [
    "poem= \"Sanma şâhım / herkesi sen / sâdıkâne / yâr olur. Herkesi sen / dost mu sandın / belki ol / ağyâr olur. Sâdıkâne / belki ol / bu âlemde / dildâr olur. Yâr olur / ağyâr olur / dildâr olur / serdâr olur.\"\n",
    "print (poem.strip(\"Sanma şâhım / herkesi sen / sâdıkâne / yâr olur.\"))"
   ]
  },
  {
   "cell_type": "code",
   "execution_count": 82,
   "metadata": {},
   "outputs": [
    {
     "name": "stdout",
     "output_type": "stream",
     "text": [
      "erzurumerzurum\n"
     ]
    }
   ],
   "source": [
    "print(\"erzurum\")\n",
    "print(\"erzurum\" * 2, sep = \" \")"
   ]
  },
  {
   "cell_type": "code",
   "execution_count": 83,
   "metadata": {},
   "outputs": [
    {
     "name": "stdout",
     "output_type": "stream",
     "text": [
      "e r z u r u m e r z u r u m\n"
     ]
    }
   ],
   "source": [
    "print(* \"erzurum\" * 2)"
   ]
  },
  {
   "cell_type": "code",
   "execution_count": 84,
   "metadata": {},
   "outputs": [
    {
     "name": "stdout",
     "output_type": "stream",
     "text": [
      "e,r,z,u,r,u,m\n"
     ]
    }
   ],
   "source": [
    "print(* \"erzurum\", sep = \",\")"
   ]
  },
  {
   "cell_type": "code",
   "execution_count": 88,
   "metadata": {},
   "outputs": [
    {
     "name": "stdout",
     "output_type": "stream",
     "text": [
      "erzurum istanbul istanbul\n"
     ]
    }
   ],
   "source": [
    "sehir = \"erzurum\"\n",
    "\n",
    "sehir += \" istanbul\"\n",
    "\n",
    "sehir = sehir + \" istanbul\"\n",
    "\n",
    "print(sehir)"
   ]
  },
  {
   "cell_type": "code",
   "execution_count": 91,
   "metadata": {},
   "outputs": [
    {
     "name": "stdout",
     "output_type": "stream",
     "text": [
      "erzurum istanbul istanbulsinop sinop sinop\n"
     ]
    }
   ],
   "source": [
    "sehir += \" sinop\"\n",
    "print(sehir)"
   ]
  },
  {
   "cell_type": "code",
   "execution_count": 1,
   "metadata": {},
   "outputs": [
    {
     "name": "stdout",
     "output_type": "stream",
     "text": [
      "Kilonuzu kg cinsinden giriniz(Ornek:70): 84.5\n",
      "Boyunuzu m cinsinden giriniz(Ornek:1.80): 1.94\n",
      "Beden kitle indeksiniz: 22.45\n",
      "Beden kitle indeksiniz: 22.45\n"
     ]
    }
   ],
   "source": [
    "kilo = float(input(\"Kilonuzu kg cinsinden giriniz(Ornek:70): \"))\n",
    "boy = float(input(\"Boyunuzu m cinsinden giriniz(Ornek:1.80): \"))\n",
    "beden_kitle_indx = kilo / boy ** 2\n",
    "print(\"Beden kitle indeksiniz: {:.2f}\".format(beden_kitle_indx))\n",
    "print(f\"Beden kitle indeksiniz: {beden_kitle_indx:.2f}\")"
   ]
  },
  {
   "cell_type": "code",
   "execution_count": 2,
   "metadata": {},
   "outputs": [
    {
     "name": "stdout",
     "output_type": "stream",
     "text": [
      "carpım 15\n"
     ]
    }
   ],
   "source": [
    "a = 3\n",
    "b = 5\n",
    "print(f\"carpım {a*b}\")"
   ]
  },
  {
   "cell_type": "code",
   "execution_count": null,
   "metadata": {},
   "outputs": [],
   "source": []
  }
 ],
 "metadata": {
  "kernelspec": {
   "display_name": "Python 3",
   "language": "python",
   "name": "python3"
  },
  "language_info": {
   "codemirror_mode": {
    "name": "ipython",
    "version": 3
   },
   "file_extension": ".py",
   "mimetype": "text/x-python",
   "name": "python",
   "nbconvert_exporter": "python",
   "pygments_lexer": "ipython3",
   "version": "3.7.6"
  }
 },
 "nbformat": 4,
 "nbformat_minor": 4
}
