{
 "cells": [
  {
   "cell_type": "code",
   "execution_count": 7,
   "metadata": {},
   "outputs": [],
   "source": [
    "\t\n",
    "num = list(range(2,100))\n",
    "\n",
    "counter = 0\n",
    "\n",
    "for i in range(2,10):\n",
    "\n",
    "    if num[counter]%i != 0:\n",
    "\n",
    "        print(f\"{num} is a prime number.\")\n",
    "\n",
    "    else:\n",
    "\n",
    "        counter += 1"
   ]
  },
  {
   "cell_type": "code",
   "execution_count": 12,
   "metadata": {},
   "outputs": [
    {
     "name": "stdout",
     "output_type": "stream",
     "text": [
      "Please enter a number: 13\n",
      "13 is a prime number\n"
     ]
    }
   ],
   "source": [
    "num = int(input(\"Please enter a number: \"))\n",
    "if num > 1:\n",
    "   # check for factors\n",
    "    for i in range(2,num):\n",
    "        if (num % i) == 0:\n",
    "            print(num,\"is not a prime number\")\n",
    "            print(i,\"times\",num//i,\"is\",num)\n",
    "            break\n",
    "    else:\n",
    "        print(num,\"is a prime number\")\n",
    "       \n",
    "# if input number is less than\n",
    "# or equal to 1, it is not prime\n",
    "else:\n",
    "    print(num,\"is not a prime number\")"
   ]
  },
  {
   "cell_type": "code",
   "execution_count": 22,
   "metadata": {},
   "outputs": [
    {
     "name": "stdout",
     "output_type": "stream",
     "text": [
      "Please enter a number: -5\n"
     ]
    }
   ],
   "source": [
    "\t\n",
    "num = int(input(\"Please enter a number: \"))\n",
    "\n",
    "for i in range(2,num):\n",
    "\n",
    "    if num%i != 0:\n",
    "\n",
    "        if i == num-1:\n",
    "\n",
    "            print(f\"{num} is a prime number.\")\n",
    "\n",
    "            break\n",
    "\n",
    "    else:\n",
    "\n",
    "        print(f\"{num} is not a prime number.\")\n",
    "\n",
    "        break"
   ]
  },
  {
   "cell_type": "code",
   "execution_count": 20,
   "metadata": {},
   "outputs": [
    {
     "name": "stdout",
     "output_type": "stream",
     "text": [
      "enter a number: 13\n",
      "13 is a prime number.\n"
     ]
    }
   ],
   "source": [
    "sayi = int(input(\"enter a number: \"))\n",
    "if sayi > 1:\n",
    "    for i in range (2, sayi):\n",
    "        if sayi%i == 0:\n",
    "            print(f\"{sayi} is not a prime number.\")\n",
    "            break\n",
    "    else:\n",
    "        print(f\"{sayi} is a prime number.\")\n",
    "else:\n",
    "    print(f\"{sayi} is not a prime number.\")"
   ]
  },
  {
   "cell_type": "code",
   "execution_count": 31,
   "metadata": {},
   "outputs": [
    {
     "name": "stdout",
     "output_type": "stream",
     "text": [
      "ebob is 100\n"
     ]
    }
   ],
   "source": [
    "def ebob(x,y):\n",
    "    if x<y:\n",
    "        for i in range(x+1,2,-1):\n",
    "            if x%i == 0 and y%i == 0:\n",
    "                print(f\"ebob is {i}\")\n",
    "                break\n",
    "        else:\n",
    "            print(f\"no ebob\")\n",
    "    if y<x:\n",
    "        for i in range(y+1,2,-1):\n",
    "            if x%i == 0 and y%i == 0:\n",
    "                print(f\"ebob is {i}\")\n",
    "                break\n",
    "        else:\n",
    "            print(f\"no ebob\")\n",
    "ebob(500,1200)"
   ]
  },
  {
   "cell_type": "code",
   "execution_count": 30,
   "metadata": {},
   "outputs": [
    {
     "data": {
      "text/plain": [
       "100"
      ]
     },
     "execution_count": 30,
     "metadata": {},
     "output_type": "execute_result"
    }
   ],
   "source": [
    "def ebob(x,y):\n",
    "    while y:\n",
    "        d=x\n",
    "        x=y\n",
    "        y=d%y\n",
    "    return x\n",
    "ebob(500,1200)"
   ]
  },
  {
   "cell_type": "code",
   "execution_count": 34,
   "metadata": {},
   "outputs": [
    {
     "name": "stdout",
     "output_type": "stream",
     "text": [
      "no ebob\n"
     ]
    }
   ],
   "source": [
    "def ebob(x,y):\n",
    "    for i in range(x+1,2,-1):\n",
    "        if x%i == 0 and y%i == 0:\n",
    "            print(f\"ebob is {i}\")\n",
    "            break\n",
    "    else:\n",
    "        print(f\"no ebob\")\n",
    "ebob(13,47)"
   ]
  },
  {
   "cell_type": "code",
   "execution_count": 53,
   "metadata": {},
   "outputs": [
    {
     "data": {
      "text/plain": [
       "85"
      ]
     },
     "execution_count": 53,
     "metadata": {},
     "output_type": "execute_result"
    }
   ],
   "source": [
    "def ekok(x,y):\n",
    "    return (int(x*y/ebob(x,y)) if type(ebob(x,y)) == int else x*y)\n",
    "\n",
    "def ebob(x,y):\n",
    "    for i in range(x+1,2,-1):\n",
    "        if x%i == 0 and y%i == 0:\n",
    "            return i\n",
    "    else:\n",
    "        return \"No ebob\"\n",
    "    \n",
    "ekok(5,17)"
   ]
  },
  {
   "cell_type": "code",
   "execution_count": 58,
   "metadata": {},
   "outputs": [
    {
     "data": {
      "text/plain": [
       "10"
      ]
     },
     "execution_count": 58,
     "metadata": {},
     "output_type": "execute_result"
    }
   ],
   "source": [
    "def ebob(x,y):\n",
    "    for i in range(x+1,1,-1):\n",
    "        if x%i == 0 and y%i == 0:\n",
    "            return i\n",
    "    else:\n",
    "        return \"No ebob\"\n",
    "ebob(50,10)"
   ]
  },
  {
   "cell_type": "code",
   "execution_count": 60,
   "metadata": {},
   "outputs": [],
   "source": [
    "def ebob(x,y):\n",
    "    for i in range(x+1,1,-1):\n",
    "        if x%i == 0 and y%i == 0:\n",
    "            return i\n",
    "ebob(13,5)"
   ]
  },
  {
   "cell_type": "code",
   "execution_count": 62,
   "metadata": {},
   "outputs": [
    {
     "name": "stdout",
     "output_type": "stream",
     "text": [
      "[1, 3, 5, 7, 9, 11, 13, 15, 17, 19, 21, 23, 25, 27, 29, 31, 33, 35, 37, 39, 41, 43, 45, 47, 49, 51, 53, 55, 57, 59, 61, 63, 65, 67, 69, 71, 73, 75, 77, 79, 81, 83, 85, 87, 89, 91, 93, 95, 97, 99, 101, 103, 105, 107, 109]\n"
     ]
    }
   ],
   "source": [
    "def fibaonacci(sayi):\n",
    "    return [fibonacci(sayi) - fibonacci(sayi-1)]\n",
    "fibonacci(55)"
   ]
  },
  {
   "cell_type": "code",
   "execution_count": null,
   "metadata": {},
   "outputs": [],
   "source": [
    "fibonacci = []\n",
    "i = 1\n",
    "while i<56:\n",
    "    fibonacci.append(i)\n",
    "    i += i-1\n",
    "    fibonacci.append(i)\n",
    "    \n",
    "    return [fibonacci(sayi) - fibonacci(sayi-1)]\n",
    "fibonacci(55)"
   ]
  },
  {
   "cell_type": "code",
   "execution_count": 64,
   "metadata": {},
   "outputs": [
    {
     "name": "stdout",
     "output_type": "stream",
     "text": [
      "Number1: 6\n",
      "Number2: 15\n",
      "EBOB[6, 15] = 3\n",
      "EKOK[6, 15] = 30\n"
     ]
    }
   ],
   "source": [
    "def ebob(n1,n2):\n",
    "    for i in range(n1,0,-1):\n",
    "        if not(n2%i or n1%i): return i\n",
    "def ekok(n1,n2):\n",
    "    for i in range (n2,n1*n2+1):\n",
    "        if not(i%n2 or i%n1): return i\n",
    "nums=[int(input(f\"Number{i+1}: \")) for i in range(2)]\n",
    "print(f\"EBOB{nums} = {ebob(min(nums),max(nums))}\\n\"\n",
    "      f\"EKOK{nums} = {ekok(min(nums),max(nums))}\")"
   ]
  },
  {
   "cell_type": "code",
   "execution_count": 65,
   "metadata": {},
   "outputs": [
    {
     "data": {
      "text/plain": [
       "0"
      ]
     },
     "execution_count": 65,
     "metadata": {},
     "output_type": "execute_result"
    }
   ],
   "source": [
    "30%6"
   ]
  },
  {
   "cell_type": "code",
   "execution_count": 66,
   "metadata": {},
   "outputs": [
    {
     "data": {
      "text/plain": [
       "0"
      ]
     },
     "execution_count": 66,
     "metadata": {},
     "output_type": "execute_result"
    }
   ],
   "source": [
    "30%15"
   ]
  },
  {
   "cell_type": "code",
   "execution_count": 75,
   "metadata": {},
   "outputs": [
    {
     "name": "stdout",
     "output_type": "stream",
     "text": [
      "y x\n"
     ]
    }
   ],
   "source": [
    "dict_gene = {'y' : \"Marry\", 'x' : \"Fred\"}\n",
    "print(*dict_gene)\n"
   ]
  },
  {
   "cell_type": "code",
   "execution_count": null,
   "metadata": {},
   "outputs": [],
   "source": []
  }
 ],
 "metadata": {
  "kernelspec": {
   "display_name": "Python 3",
   "language": "python",
   "name": "python3"
  },
  "language_info": {
   "codemirror_mode": {
    "name": "ipython",
    "version": 3
   },
   "file_extension": ".py",
   "mimetype": "text/x-python",
   "name": "python",
   "nbconvert_exporter": "python",
   "pygments_lexer": "ipython3",
   "version": "3.7.6"
  }
 },
 "nbformat": 4,
 "nbformat_minor": 4
}
