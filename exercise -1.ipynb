{
 "cells": [
  {
   "cell_type": "code",
   "execution_count": 4,
   "metadata": {},
   "outputs": [
    {
     "name": "stdout",
     "output_type": "stream",
     "text": [
      "i love my teapot\n"
     ]
    }
   ],
   "source": [
    "# bitişik verilen cümledeki büyük harflere göre kelimeleri ayırsın ve harflerin hepsini küçük hale çevirerek string olarak bassın.\n",
    "\n",
    "data = \"iLoveMyTeapot\"\n",
    "print(''.join([' '+i.lower() if i.isupper() else i for i in data]))"
   ]
  },
  {
   "cell_type": "code",
   "execution_count": 5,
   "metadata": {},
   "outputs": [
    {
     "name": "stdout",
     "output_type": "stream",
     "text": [
      "John#Peter#Vicky\n"
     ]
    }
   ],
   "source": [
    "myTuple = (\"John\", \"Peter\", \"Vicky\")\n",
    "\n",
    "x = \"#\".join(myTuple)\n",
    "\n",
    "print(x)"
   ]
  },
  {
   "cell_type": "code",
   "execution_count": 6,
   "metadata": {},
   "outputs": [
    {
     "name": "stdout",
     "output_type": "stream",
     "text": [
      "nameTESTcountry\n"
     ]
    }
   ],
   "source": [
    "myDict = {\"name\": \"John\", \"country\": \"Norway\"}\n",
    "mySeparator = \"TEST\"\n",
    "\n",
    "x = mySeparator.join(myDict)\n",
    "\n",
    "print(x)"
   ]
  },
  {
   "cell_type": "code",
   "execution_count": 7,
   "metadata": {},
   "outputs": [
    {
     "name": "stdout",
     "output_type": "stream",
     "text": [
      "hello my friends\n"
     ]
    }
   ],
   "source": [
    "txt = \"Hello my FRIENDS\"\n",
    "\n",
    "x = txt.lower()\n",
    "\n",
    "print(x)"
   ]
  },
  {
   "cell_type": "code",
   "execution_count": 8,
   "metadata": {},
   "outputs": [
    {
     "name": "stdout",
     "output_type": "stream",
     "text": [
      "True\n"
     ]
    }
   ],
   "source": [
    "txt = \"THIS IS NOW!\"\n",
    "\n",
    "x = txt.isupper()\n",
    "\n",
    "print(x)"
   ]
  },
  {
   "cell_type": "code",
   "execution_count": 9,
   "metadata": {},
   "outputs": [
    {
     "name": "stdout",
     "output_type": "stream",
     "text": [
      "False\n",
      "False\n",
      "True\n"
     ]
    }
   ],
   "source": [
    "a = \"Hello World!\"\n",
    "b = \"hello 123\"\n",
    "c = \"MY NAME IS PETER\"\n",
    "\n",
    "print(a.isupper())\n",
    "print(b.isupper())\n",
    "print(c.isupper())"
   ]
  },
  {
   "cell_type": "code",
   "execution_count": 11,
   "metadata": {},
   "outputs": [
    {
     "name": "stdout",
     "output_type": "stream",
     "text": [
      "i love my teapot\n"
     ]
    }
   ],
   "source": [
    "data = \"iLoveMyTeapot\"\n",
    "sentence = ''\n",
    "for chrc in data:\n",
    "    if chrc.islower() == False:\n",
    "        sentence += ' ' + chrc.lower()\n",
    "    else:\n",
    "        sentence += chrc\n",
    "print(sentence)"
   ]
  },
  {
   "cell_type": "code",
   "execution_count": 25,
   "metadata": {},
   "outputs": [
    {
     "name": "stdout",
     "output_type": "stream",
     "text": [
      "hello world\n",
      "i love clarusway\n",
      "stay in stay safe\n",
      "i love my teapot\n"
     ]
    },
    {
     "data": {
      "text/plain": [
       "'i love my teapot'"
      ]
     },
     "execution_count": 25,
     "metadata": {},
     "output_type": "execute_result"
    }
   ],
   "source": [
    "def convert_string(s):\n",
    "    new_string = \"\"\n",
    "    for i in s:\n",
    "        if i.lower() != i:\n",
    "            i = i.lower()\n",
    "            new_string += ' ' + i\n",
    "        else:\n",
    "            new_string += i\n",
    "    print(new_string)\n",
    "    return new_string\n",
    "\n",
    "convert_string(\"helloWorld\")\n",
    "convert_string(\"iLoveClarusway\")\n",
    "convert_string(\"stayInStaySafe\")\n",
    "convert_string(\"iLoveMyTeapot\")\n"
   ]
  },
  {
   "cell_type": "code",
   "execution_count": 27,
   "metadata": {},
   "outputs": [
    {
     "name": "stdout",
     "output_type": "stream",
     "text": [
      "i love my teapot\n"
     ]
    }
   ],
   "source": [
    "data = \"iLoveMyTeapot\"\n",
    "output = ''\n",
    "for ch in data :\n",
    "    if 64 < ord (ch) < 91: # karakterlerin ASCSII kodlarını döndürüyor\n",
    "        output += ' ' + ch.lower()     # f\"{' '}{ch.lower()}\" alternatif yöntem\n",
    "    else:\n",
    "        output += ch\n",
    "print(output)"
   ]
  },
  {
   "cell_type": "code",
   "execution_count": 32,
   "metadata": {},
   "outputs": [
    {
     "name": "stdout",
     "output_type": "stream",
     "text": [
      " my new life\n"
     ]
    }
   ],
   "source": [
    "ifade = \"MyNewLife\"\n",
    "new_ifade = ''\n",
    "for i in ifade:\n",
    "    if i.lower() != i:\n",
    "        new_ifade += ' ' + i.lower()\n",
    "    else:\n",
    "        new_ifade += i\n",
    "print(new_ifade)"
   ]
  },
  {
   "cell_type": "code",
   "execution_count": 39,
   "metadata": {},
   "outputs": [
    {
     "name": "stdout",
     "output_type": "stream",
     "text": [
      "[' h', 'e', 'l', 'l', 'o', ' c', 'l', 'a', 'r', 'u', 's', 'w', 'a', 'y']\n",
      " hello clarusway\n"
     ]
    }
   ],
   "source": [
    "kelime = \"HelloClarusway\"\n",
    "liste = []\n",
    "sayac = 0\n",
    "for sayac in range(0,len(kelime),1):\n",
    "    if kelime[sayac].lower() == kelime[sayac]:\n",
    "        liste.append(kelime[sayac])\n",
    "    else:\n",
    "        x = kelime[sayac].lower()\n",
    "        x = \" \" + x\n",
    "        liste.append(x)\n",
    "print(liste)\n",
    "print(\"\".join(liste))"
   ]
  },
  {
   "cell_type": "code",
   "execution_count": 40,
   "metadata": {},
   "outputs": [
    {
     "name": "stdout",
     "output_type": "stream",
     "text": [
      "Please enter the Celsius temperature : 33\n",
      "33.0 celcius degree = 91.4 fahrenheit degree\n"
     ]
    }
   ],
   "source": [
    "celsius_degree = float(input(\"Please enter the Celsius temperature : \"))\n",
    "\n",
    "fahrenheit_degree = celsius_degree * 1.8 + 32\n",
    "\n",
    "print(f\"{celsius_degree} celcius degree = {fahrenheit_degree} fahrenheit degree\")"
   ]
  },
  {
   "cell_type": "code",
   "execution_count": null,
   "metadata": {},
   "outputs": [],
   "source": []
  }
 ],
 "metadata": {
  "kernelspec": {
   "display_name": "Python 3",
   "language": "python",
   "name": "python3"
  },
  "language_info": {
   "codemirror_mode": {
    "name": "ipython",
    "version": 3
   },
   "file_extension": ".py",
   "mimetype": "text/x-python",
   "name": "python",
   "nbconvert_exporter": "python",
   "pygments_lexer": "ipython3",
   "version": "3.7.6"
  }
 },
 "nbformat": 4,
 "nbformat_minor": 4
}
